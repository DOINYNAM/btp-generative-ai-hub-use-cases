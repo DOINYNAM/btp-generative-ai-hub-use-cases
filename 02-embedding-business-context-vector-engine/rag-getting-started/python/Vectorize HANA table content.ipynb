{
 "cells": [
  {
   "cell_type": "markdown",
   "metadata": {},
   "source": [
    "The following code snippet is authored by:<br>\n",
    "- Markus Fath https://github.com/fath-markus"
   ]
  },
  {
   "cell_type": "markdown",
   "metadata": {},
   "source": [
    "# Vectorize table content\n",
    "* load some data from csv into a hana table\n",
    "* read some text values from that table\n",
    "* generate embeddings\n",
    "* add a vcetor column to the table\n",
    "* update the table with the vectors"
   ]
  },
  {
   "cell_type": "code",
   "execution_count": 1,
   "metadata": {},
   "outputs": [
    {
     "name": "stderr",
     "output_type": "stream",
     "text": [
      "ModuleNotFoundError: No module named 'shapely'\n"
     ]
    },
    {
     "name": "stdout",
     "output_type": "stream",
     "text": [
      "1.4.4\n",
      "2.18.23110300\n"
     ]
    }
   ],
   "source": [
    "import pandas as pd\n",
    "import hana_ml\n",
    "print(pd.__version__)\n",
    "print(hana_ml.__version__)"
   ]
  },
  {
   "cell_type": "code",
   "execution_count": null,
   "metadata": {},
   "outputs": [],
   "source": [
    "# get a csv file into pandas df\n",
    "df = pd.read_csv('./data/INIS_NEWS_APPLICATION.csv', sep=';', quotechar='\"', low_memory=False)\n",
    "df.head(3)"
   ]
  },
  {
   "cell_type": "code",
   "execution_count": 4,
   "metadata": {},
   "outputs": [
    {
     "name": "stdout",
     "output_type": "stream",
     "text": [
      "4.50.000.00.0000000000 (xxxFASTDEVMAKExxx)\n",
      "VDB\n"
     ]
    }
   ],
   "source": [
    "from hana_ml import ConnectionContext\n",
    "# cc = ConnectionContext(userkey='VDB_BETA', encrypt=True)\n",
    "cc= ConnectionContext(\n",
    "    address='[somehost].hanacloud.ondemand.com', \n",
    "    port='443', \n",
    "    user='[your user]', \n",
    "    password='[your password]', \n",
    "    encrypt=True\n",
    "    )\n",
    "print(cc.hana_version())\n",
    "print(cc.get_current_schema())"
   ]
  },
  {
   "cell_type": "code",
   "execution_count": 5,
   "metadata": {},
   "outputs": [],
   "source": [
    "# hanal-ml doesn't deal with CLOBS, so create the table by hand\n",
    "# DDL\n",
    "cursor = cc.connection.cursor()\n",
    "sql_command = '''CREATE TABLE \"NEWS_APPL\" (\n",
    "    \"Key\" NVARCHAR(5000),\n",
    "    \"Date\" NVARCHAR(5000),\n",
    "    \"No\" BIGINT,\n",
    "    \"TopicNo\" BIGINT,\n",
    "    \"TopicID\" NVARCHAR(5000),\n",
    "    \"TopicName\" NVARCHAR(5000),\n",
    "    \"Domain\" NVARCHAR(5000),\n",
    "    \"arXivID\" DOUBLE,\n",
    "    \"Base\" NVARCHAR(5000),\n",
    "    \"Link\" NVARCHAR(5000),\n",
    "    \"SenderHTML\" NVARCHAR(5000),\n",
    "    \"SenderName\" NVARCHAR(5000),\n",
    "    \"Title\" NVARCHAR(5000),\n",
    "    \"Abstract\" NCLOB MEMORY THRESHOLD 0)'''\n",
    "cursor.execute(sql_command)\n",
    "cursor.close()"
   ]
  },
  {
   "cell_type": "code",
   "execution_count": 6,
   "metadata": {},
   "outputs": [
    {
     "name": "stderr",
     "output_type": "stream",
     "text": [
      "100%|██████████| 1/1 [00:00<00:00,  1.31it/s]\n"
     ]
    }
   ],
   "source": [
    "# import dataframe into hana table\n",
    "from hana_ml.dataframe import create_dataframe_from_pandas\n",
    "v_hdf = create_dataframe_from_pandas(\n",
    "    connection_context=cc,\n",
    "    pandas_df=df,\n",
    "    table_name=\"NEWS_APPL\", \n",
    "    allow_bigint=True, \n",
    "    append=True,\n",
    "    force=False)"
   ]
  },
  {
   "cell_type": "code",
   "execution_count": 7,
   "metadata": {},
   "outputs": [],
   "source": [
    "# get some data from the newly created table\n",
    "# you could join multiple text columns in SQL\n",
    "hdf = cc.sql('''SELECT TOP 10 \"Key\", \"Abstract\" FROM NEWS_APPL''')\n",
    "df_abstract = hdf.collect()"
   ]
  },
  {
   "cell_type": "code",
   "execution_count": 8,
   "metadata": {},
   "outputs": [],
   "source": [
    "# get embedding\n",
    "from llm_commons.proxy.openai import Embedding\n",
    "def get_embedding(input, model=\"text-embedding-ada-002-v2\") -> str:\n",
    "    response = Embedding.create(\n",
    "      deployment_id=model,\n",
    "      input=input\n",
    "    )\n",
    "    return response.data[0].embedding"
   ]
  },
  {
   "cell_type": "code",
   "execution_count": 13,
   "metadata": {},
   "outputs": [],
   "source": [
    "# generate embeddings from the text\n",
    "rows = []\n",
    "for index, row in df_abstract.iterrows():\n",
    "    text = row['Abstract']\n",
    "    try:\n",
    "        text_vector = get_embedding(input=text)\n",
    "        # text_vector = '[0, 1]'\n",
    "        myrow = (str(text_vector), row['Key'])\n",
    "        rows.append(myrow)\n",
    "    except Exception as e:\n",
    "        print(e)"
   ]
  },
  {
   "cell_type": "code",
   "execution_count": 10,
   "metadata": {},
   "outputs": [],
   "source": [
    "# add a vector column to your table\n",
    "cursor = cc.connection.cursor()\n",
    "sql_command = '''ALTER TABLE NEWS_APPL ADD (VECTOR REAL_VECTOR(1536))'''\n",
    "cursor.execute(sql_command)\n",
    "cursor.close()"
   ]
  },
  {
   "cell_type": "code",
   "execution_count": 27,
   "metadata": {},
   "outputs": [],
   "source": [
    "# bulk update\n",
    "cc.connection.setautocommit(False)\n",
    "cursor = cc.connection.cursor()\n",
    "sql = 'UPDATE NEWS_APPL SET VECTOR = TO_REAL_VECTOR(?) WHERE \"Key\" = ?'\n",
    "try:\n",
    "    cursor.executemany(sql, rows)\n",
    "except Exception as e:\n",
    "    cc.connection.rollback()\n",
    "    print(\"An error occurred:\", e)\n",
    "try:\n",
    "    cc.connection.commit()\n",
    "finally:\n",
    "    cursor.close()\n",
    "cc.connection.setautocommit(True)"
   ]
  }
 ],
 "metadata": {
  "kernelspec": {
   "display_name": "TE2023",
   "language": "python",
   "name": "python3"
  },
  "language_info": {
   "codemirror_mode": {
    "name": "ipython",
    "version": 3
   },
   "file_extension": ".py",
   "mimetype": "text/x-python",
   "name": "python",
   "nbconvert_exporter": "python",
   "pygments_lexer": "ipython3",
   "version": "3.9.18"
  }
 },
 "nbformat": 4,
 "nbformat_minor": 2
}
