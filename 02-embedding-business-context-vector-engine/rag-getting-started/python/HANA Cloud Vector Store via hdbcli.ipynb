{
 "cells": [
  {
   "cell_type": "code",
   "execution_count": 4,
   "metadata": {},
   "outputs": [
    {
     "name": "stdout",
     "output_type": "stream",
     "text": [
      "2.18.22\n"
     ]
    }
   ],
   "source": [
    "import hdbcli\n",
    "from hdbcli import dbapi\n",
    "print(hdbcli.__version__)"
   ]
  },
  {
   "cell_type": "code",
   "execution_count": 5,
   "metadata": {},
   "outputs": [],
   "source": [
    "# conn = dbapi.connect(key='VDB_BETA')\n",
    "conn = dbapi.connect(\n",
    "    address='9f98i7c5-155d-4238-a9f9-d24dfc56df13.hana.prod-eu12.hanacloud.ondemand.com', \n",
    "    port='443', \n",
    "    user='D37BFE44L98A4ABC81FFA9BD2B2C0A44_7CHYYW0NWAQ6KZCXJAS53KWV5_RT', \n",
    "    password='Ho28ijy-olsyb1XrVgsMsx59XPQcEbefMkSlCptzk3uymHW671JM2nXwaRIx0SxYeBHSgxNqP2AUGnGIacsBn-A9c6uMRGsYEng2gAgApqCjjb49p9GyGFxXGlHQH3tW', \n",
    "    encrypt=True\n",
    ")"
   ]
  },
  {
   "cell_type": "code",
   "execution_count": 18,
   "metadata": {},
   "outputs": [],
   "source": [
    "# DDL\n",
    "cursor = conn.cursor()\n",
    "sql_command = '''CREATE TABLE MYVECTORS(ID BIGINT, TEXT NCLOB, VECTOR REAL_VECTOR(2));'''\n",
    "cursor.execute(sql_command)\n",
    "cursor.close()"
   ]
  },
  {
   "cell_type": "code",
   "execution_count": 19,
   "metadata": {},
   "outputs": [],
   "source": [
    "rows = []\n",
    "rows.append([1, 'T1', '[0, 1]'])\n",
    "rows.append([2, 'T2', '[0, 1]'])\n",
    "rows.append([3, 'T3', '[0.1, 0.8]'])"
   ]
  },
  {
   "cell_type": "code",
   "execution_count": 20,
   "metadata": {},
   "outputs": [],
   "source": [
    "# bulk insert\n",
    "conn.setautocommit(False)\n",
    "cursor = conn.cursor()\n",
    "sql = 'INSERT INTO MYVECTORS (ID, TEXT, VECTOR) VALUES (?, ?, TO_REAL_VECTOR(?))'\n",
    "try:\n",
    "    cursor.executemany(sql, rows)\n",
    "except Exception as e:\n",
    "    conn.rollback()\n",
    "    print(\"An error occurred:\", e)\n",
    "try:\n",
    "    conn.commit()\n",
    "finally:\n",
    "    cursor.close()"
   ]
  },
  {
   "cell_type": "code",
   "execution_count": 21,
   "metadata": {},
   "outputs": [
    {
     "name": "stdout",
     "output_type": "stream",
     "text": [
      "(1, 'T1', '[0,1]')\n",
      "(2, 'T2', '[0,1]')\n",
      "(3, 'T3', '[0.1,0.8]')\n"
     ]
    }
   ],
   "source": [
    "# query\n",
    "cursor = conn.cursor()\n",
    "sql_command = '''SELECT ID, TEXT, TO_NVARCHAR(VECTOR) AS VECTOR_STR FROM MYVECTORS LIMIT 5;'''\n",
    "cursor.execute(sql_command)\n",
    "\n",
    "rows = cursor.fetchall()\n",
    "for row in rows:\n",
    "    print(row)\n",
    "cursor.close()"
   ]
  },
  {
   "cell_type": "code",
   "execution_count": 27,
   "metadata": {},
   "outputs": [
    {
     "name": "stdout",
     "output_type": "stream",
     "text": [
      "(3, 'T3', 0.9999061386085962)\n",
      "(1, 'T1', 0.9938837488013375)\n",
      "(2, 'T2', 0.9938837488013375)\n"
     ]
    }
   ],
   "source": [
    "# TOP k NN query\n",
    "cursor = conn.cursor()\n",
    "# cosine similarity DESC order\n",
    "sql_command = '''SELECT ID, TEXT, COSINE_SIMILARITY(VECTOR, TO_REAL_VECTOR('[0.1, 0.9]')) AS COS_SIM FROM MYVECTORS \n",
    "ORDER BY COS_SIM DESC LIMIT 5;'''\n",
    "\n",
    "# l2 distance ASC order\n",
    "# sql_command = '''SELECT ID, TEXT, L2DISTANCE(VECTOR, TO_REAL_VECTOR('[0.1, 0.9]')) AS L2_DIST FROM MYVECTORS \n",
    "# ORDER BY L2_DIST ASC LIMIT 5;'''\n",
    "\n",
    "# similarity matrix\n",
    "# sql_command = '''SELECT V1.ID, V2.ID, COSINE_SIMILARITY(V1.VECTOR, V2.VECTOR) AS COS_SIM \n",
    "# FROM MYVECTORS AS V1, VDB.MYVECTORS AS V2 WHERE V1.ID < V2.ID ORDER BY COS_SIM DESC LIMIT 5;'''\n",
    "cursor.execute(sql_command)\n",
    "\n",
    "rows = cursor.fetchall()\n",
    "for row in rows:\n",
    "    print(row)\n",
    "\n",
    "cursor.close()"
   ]
  }
 ],
 "metadata": {
  "kernelspec": {
   "display_name": "Python 3 (ipykernel)",
   "language": "python",
   "name": "python3"
  },
  "language_info": {
   "codemirror_mode": {
    "name": "ipython",
    "version": 3
   },
   "file_extension": ".py",
   "mimetype": "text/x-python",
   "name": "python",
   "nbconvert_exporter": "python",
   "pygments_lexer": "ipython3",
   "version": "3.11.4"
  }
 },
 "nbformat": 4,
 "nbformat_minor": 4
}
