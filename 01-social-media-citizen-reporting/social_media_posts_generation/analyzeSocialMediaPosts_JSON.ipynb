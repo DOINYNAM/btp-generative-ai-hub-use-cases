{
 "cells": [
  {
   "cell_type": "markdown",
   "id": "ff12ba3e",
   "metadata": {},
   "source": [
    "# Analyze social media posts"
   ]
  },
  {
   "cell_type": "markdown",
   "id": "05543b9b",
   "metadata": {},
   "source": [
    "### Prerequisites"
   ]
  },
  {
   "cell_type": "markdown",
   "id": "987cd0da",
   "metadata": {},
   "source": [
    "Before starting, have a look [here](./setup_python_env.md) to see how to install the necessary libraries. "
   ]
  },
  {
   "cell_type": "markdown",
   "id": "ad2ce468-1a66-4bdf-a76d-fa0e8c53633d",
   "metadata": {},
   "source": [
    "You need to have gpt-4 (or gpt-3.5) set up in your Generative AI Hub.  Check if everything has been set up correctly by running the prompt below:"
   ]
  },
  {
   "cell_type": "code",
   "execution_count": 70,
   "id": "7cd955f1",
   "metadata": {},
   "outputs": [
    {
     "data": {
      "text/plain": [
       "AIMessage(content='I am a language model AI created by OpenAI and do not have a personal name. You can call me OpenAI Language Model or simply AI. How can I assist you today?')"
      ]
     },
     "execution_count": 70,
     "metadata": {},
     "output_type": "execute_result"
    }
   ],
   "source": [
    "from gen_ai_hub.proxy.langchain import ChatOpenAI\n",
    "model = ChatOpenAI(  proxy_model_name='gpt-35-turbo' ,\\\n",
    "                    temperature=0.0,\\\n",
    "                    verbose = True)\n",
    "model.invoke('What is your name?')"
   ]
  },
  {
   "cell_type": "markdown",
   "id": "5b769b42",
   "metadata": {},
   "source": [
    "### Engineer prompt to analyse social media post"
   ]
  },
  {
   "cell_type": "markdown",
   "id": "9bdc92da",
   "metadata": {},
   "source": [
    "Take a test post"
   ]
  },
  {
   "cell_type": "code",
   "execution_count": 71,
   "id": "c5c20674",
   "metadata": {},
   "outputs": [],
   "source": [
    "test_post='''📢 Attention Sagenai residents! ⚠️\n",
    "\n",
    "Can we talk about the disgraceful state of our neighborhood for a moment? 🗑️🤢 It seems like the local authorities have forgotten about our beloved public area on Oakwood Road. Seriously, has anyone seen the piles of rubbish and litter scattered everywhere? 🚯 It's like a landfill on our doorstep! I mean, who needs a clean and pleasant environment, right? \n",
    "\n",
    "📍 Oakwood Road, Sagenai\n",
    "\n",
    "It's mildly infuriating how we pay our taxes and yet we have to put up with this filth! 🤬 I'm not asking for Buckingham Palace-like cleanliness, but a basic level of hygiene wouldn't hurt. Hopefully, the authorities will wake up from their slumber and do something about it ASAP. Let's keep our fingers crossed! 🤞\n",
    "\n",
    "#CleanUpYourAct #OakwoodRoadNightmare #DisgustingNeighborhood \n",
    " \n",
    "\n",
    "        Coordinates:(51.57470453612761,0.003792117010085437)'''"
   ]
  },
  {
   "cell_type": "markdown",
   "id": "99ea1aab",
   "metadata": {},
   "source": [
    "Write all the information we need to get from the post with their description. This could be written in a configuration file."
   ]
  },
  {
   "cell_type": "code",
   "execution_count": 72,
   "id": "9ad2fc27",
   "metadata": {},
   "outputs": [],
   "source": [
    "info_dict={ \n",
    "\"category\": \n",
    "'''Classify the post in one of the following categories: \\\"PUBLIC CLEANLINESS\\\", \\\"ROADS & FOOTPATHS\\\", \\\n",
    "\\\"FACILITY & PARK MAINTENANCE\\\", \\\"PESTS\\\", \\\"DRAINS & SEWERS\\\".\n",
    "If none of the categories fits, return \\\"OTHER\\\".''',                 \n",
    "\n",
    "\"priority\": \n",
    "'''Identify the priority to be given to the reported issues into \\\"4-Low\\\", \\\"3-Medium\\\", \\\"2-High\\\", \\\"1-Very High\\\". .\n",
    "    4-Low : the issue does not pose any problem with public safety and does not necessarily need to be handled urgently. \n",
    "    3-Medium : the issue does not cause any immediate danger, but it has significant and negative impact on the daily life of people in the neighborhood.\n",
    "    2-High : the issue needs to be resolved quickly because it can potentially cause dangerous situations or disruptions. \n",
    "    1-Very High : the issue needs to be handled as soon as possible, as it is a matter of public safety. \n",
    "    ''',          \n",
    "            \n",
    "\"summary\": \n",
    "\"Summarize the reported issue in 40 characters and a neutral tone.\",\n",
    "            \n",
    "\"description\": \n",
    "\"Summarize the reported issue in not more that 300 characters and a neutral tone.\",\n",
    "\n",
    "\"address\":\n",
    "\"Extract the address where the issue is taking place. Return the street only and omit the town or country\",\n",
    "            \n",
    "\"location\": \n",
    "\"Extract the coordinates where the issue has been notices. The format should be: float, float\",\n",
    "       \n",
    "\"sentiment\" : \n",
    "'''Classify the sentiment of the post into \\\"NEUTRAL\\\", \\\"NEGATIVE\\\", \\\"VERY NEGATIVE\\\"\n",
    "1. NEUTRAL: if the post reports an issue politely, in a calm tone\n",
    "2. NEGATIVE: if the post shows irony, impatience, annoyance\n",
    "3. VERY NEGATIVE: the post is rude or it expresses rage, hatred towards the public authority\n",
    "'''\n",
    "}\n"
   ]
  },
  {
   "cell_type": "markdown",
   "id": "4e374cc1",
   "metadata": {},
   "source": [
    "### Template approach 1 - more advanced\n",
    "\n",
    "Here I am using advanced functionalities:\n",
    "\n",
    "1. Langchain **template** to build the prompt template\n",
    "\n",
    "1. Langchain **JSON output parser**, to parse the output in a JSON format\n",
    "\n",
    "2. Langchain **chains** to concatenate operations, in our case the prompt template ---> model ---> output_parser\n",
    "\n",
    "3. **OpenAI functions** : this is a functionality of certain openAI models, where you can pass a set of tools to the model that it can use to answer the prompt.\n"
   ]
  },
  {
   "cell_type": "markdown",
   "id": "9662b828",
   "metadata": {},
   "source": []
  },
  {
   "cell_type": "markdown",
   "id": "bd0bd9b0",
   "metadata": {},
   "source": [
    "Create a template for the prompt to submit to the model. The template is super simple, and it just asks to extract information from the social media post."
   ]
  },
  {
   "cell_type": "code",
   "execution_count": 73,
   "id": "84da3ae1",
   "metadata": {},
   "outputs": [],
   "source": [
    "from langchain.prompts import ChatPromptTemplate\n",
    "\n",
    "template=''' Extract information from the social media post delimited by triple backticks.\n",
    "```{post}``` \n",
    "'''\n",
    "\n",
    "post_prompt= ChatPromptTemplate.from_template(template)"
   ]
  },
  {
   "cell_type": "markdown",
   "id": "2554617b",
   "metadata": {},
   "source": [
    "So, how do we specify exactly which information we want to get from the post?\n",
    "\n",
    "In this case we are using OpenAI **Functions**. \n",
    "\n",
    "Certain OpenAI models (like gpt-3.5-turbo-0613 and gpt-4-0613) have been fine-tuned to detect when a function should be called and respond with the inputs that should be passed to the function. In an API call, you can describe functions and have the model intelligently choose to output a JSON object containing arguments to call those functions.\n",
    "\n",
    "More info available here: https://learn.deeplearning.ai/functions-tools-agents-langchain/lesson/2/openai-function-calling. "
   ]
  },
  {
   "cell_type": "code",
   "execution_count": 74,
   "id": "fd09bc74",
   "metadata": {},
   "outputs": [],
   "source": [
    "functions = [\n",
    "    {\n",
    "        \"name\": \"post_analysis\",\n",
    "        \"summary\": \"Extract information from the social media post\",\n",
    "        \"parameters\": {\n",
    "            \"type\": \"object\",\n",
    "            \"properties\": {\n",
    "                \n",
    "                \"category\": {\"type\": \"string\", \"description\": info_dict[\"category\"], \n",
    "                             \"enum\":['PUBLIC CLEANLINESS','ROADS & FOOTPATHS','FACILITY & PARK MAINTENANCE',\n",
    "                                     'PESTS', 'DRAINS & SEWERS','OTHER']},\n",
    "                \"priority\": {\"type\": \"string\", \"description\": info_dict[\"priority\"], \n",
    "                             \"enum\": ['4-Low','3-Medium', '2-High', '1-Very High'] },\n",
    "                \"summary\": {\"type\": \"string\", \"description\": info_dict[\"summary\"]},\n",
    "                \"description\": {\"type\": \"string\", \"description\": info_dict[\"description\"]},\n",
    "                \"address\": {\"type\": \"string\", \"description\": info_dict[\"address\"]},\n",
    "                \"location\": {\"type\": \"string\", \"description\": info_dict[\"location\"]},\n",
    "                \"sentiment\": {\"type\": \"string\", \"description\": info_dict[\"sentiment\"],\n",
    "                              \"enum\": ['NEUTRAL','NEGATIVE', 'VERY NEGATIVE']},\n",
    "            },\n",
    "            \"required\": [\"category\", \"priority\"],\n",
    "        },\n",
    "    }\n",
    "]\n"
   ]
  },
  {
   "cell_type": "markdown",
   "id": "03d9a2e9",
   "metadata": {},
   "source": [
    "Let's input this to the model:"
   ]
  },
  {
   "cell_type": "code",
   "execution_count": 75,
   "id": "fa569ecc",
   "metadata": {},
   "outputs": [
    {
     "data": {
      "text/plain": [
       "{'category': 'PUBLIC CLEANLINESS',\n",
       " 'priority': '2-High',\n",
       " 'summary': 'Disgraceful state of Oakwood Road',\n",
       " 'description': 'The post highlights the disgraceful state of Oakwood Road due to piles of rubbish and litter scattered everywhere. The author expresses frustration at the lack of cleanliness and hopes for prompt action from the authorities.',\n",
       " 'address': 'Oakwood Road',\n",
       " 'location': '51.57470453612761,0.003792117010085437',\n",
       " 'sentiment': 'VERY NEGATIVE'}"
      ]
     },
     "execution_count": 75,
     "metadata": {},
     "output_type": "execute_result"
    }
   ],
   "source": [
    "from langchain.output_parsers.openai_functions import JsonOutputFunctionsParser\n",
    "\n",
    "chain = (\n",
    "    post_prompt\n",
    "    | model.bind(function_call={\"name\": \"post_analysis\"}, functions=functions)\n",
    "    | JsonOutputFunctionsParser()\n",
    ")\n",
    "\n",
    "chain.invoke({\"post\": test_post})"
   ]
  },
  {
   "cell_type": "markdown",
   "id": "6a305616",
   "metadata": {},
   "source": [
    "This approach is said to be more reliable than just describing the info in a plain prompt "
   ]
  },
  {
   "cell_type": "markdown",
   "id": "0dc5a77f",
   "metadata": {},
   "source": [
    "### Template approach 2 - more simple\n",
    "\n",
    "Here I am using just the langchain **prompt template** . "
   ]
  },
  {
   "cell_type": "code",
   "execution_count": 76,
   "id": "97eb4cbf",
   "metadata": {},
   "outputs": [
    {
     "name": "stdout",
     "output_type": "stream",
     "text": [
      "{\n",
      "  \"category\": \"PUBLIC CLEANLINESS\",\n",
      "  \"priority\": \"2-High\",\n",
      "  \"summary\": \"Rubbish on Oakwood Road\",\n",
      "  \"description\": \"Piles of rubbish and litter scattered everywhere on Oakwood Road, creating a disgraceful and unsanitary environment for residents.\",\n",
      "  \"address\": \"Oakwood Road\",\n",
      "  \"location\": \"51.57470453612761,0.003792117010085437\",\n",
      "  \"sentiment\": \"NEGATIVE\"\n",
      "}\n"
     ]
    }
   ],
   "source": [
    "template2='''SOCIAL MEDIA POST\n",
    "{post}\n",
    "\n",
    "INSTRUCTIONS \n",
    "For the social media post above, extract the following information: \n",
    "    \n",
    "- category: {category}\n",
    "    \n",
    "- priority: {priority}\n",
    "\n",
    "- summary: {summary}\n",
    "\n",
    "- description: {description}\n",
    "    \n",
    "- address: {address}\n",
    "\n",
    "- location: {location}\n",
    "\n",
    "- sentiment: {sentiment}\n",
    "\n",
    "Output a JSON file, all the fields should be in string format\n",
    "'''\n",
    "\n",
    "post_prompt2= ChatPromptTemplate.from_template(template2, )\n",
    "model_input=post_prompt2.format_messages(post= test_post, \n",
    "              category=info_dict['category'],\n",
    "              priority=info_dict['priority'],\n",
    "              summary=info_dict['summary'],\n",
    "              description=info_dict['description'],              \n",
    "              address=info_dict['address'],\n",
    "              location=info_dict['location'],\n",
    "              sentiment=info_dict['sentiment'],\n",
    "              )\n",
    "\n",
    "model_output=model.invoke(model_input)\n",
    "print(model_output.content)"
   ]
  },
  {
   "cell_type": "markdown",
   "id": "da2354d7",
   "metadata": {},
   "source": [
    "#### Display exactly the prompt we sent to the model"
   ]
  },
  {
   "cell_type": "code",
   "execution_count": 77,
   "id": "eb20e294",
   "metadata": {},
   "outputs": [
    {
     "name": "stdout",
     "output_type": "stream",
     "text": [
      "SOCIAL MEDIA POST\n",
      "📢 Attention Sagenai residents! ⚠️\n",
      "\n",
      "Can we talk about the disgraceful state of our neighborhood for a moment? 🗑️🤢 It seems like the local authorities have forgotten about our beloved public area on Oakwood Road. Seriously, has anyone seen the piles of rubbish and litter scattered everywhere? 🚯 It's like a landfill on our doorstep! I mean, who needs a clean and pleasant environment, right? \n",
      "\n",
      "📍 Oakwood Road, Sagenai\n",
      "\n",
      "It's mildly infuriating how we pay our taxes and yet we have to put up with this filth! 🤬 I'm not asking for Buckingham Palace-like cleanliness, but a basic level of hygiene wouldn't hurt. Hopefully, the authorities will wake up from their slumber and do something about it ASAP. Let's keep our fingers crossed! 🤞\n",
      "\n",
      "#CleanUpYourAct #OakwoodRoadNightmare #DisgustingNeighborhood \n",
      " \n",
      "\n",
      "        Coordinates:(51.57470453612761,0.003792117010085437)\n",
      "\n",
      "INSTRUCTIONS \n",
      "For the social media post above, extract the following information: \n",
      "    \n",
      "- category: Classify the post in one of the following categories: \"PUBLIC CLEANLINESS\", \"ROADS & FOOTPATHS\", \"FACILITY & PARK MAINTENANCE\", \"PESTS\", \"DRAINS & SEWERS\".\n",
      "If none of the categories fits, return \"OTHER\".\n",
      "    \n",
      "- priority: Identify the priority to be given to the reported issues into \"4-Low\", \"3-Medium\", \"2-High\", \"1-Very High\". .\n",
      "    4-Low : the issue does not pose any problem with public safety and does not necessarily need to be handled urgently. \n",
      "    3-Medium : the issue does not cause any immediate danger, but it has significant and negative impact on the daily life of people in the neighborhood.\n",
      "    2-High : the issue needs to be resolved quickly because it can potentially cause dangerous situations or disruptions. \n",
      "    1-Very High : the issue needs to be handled as soon as possible, as it is a matter of public safety. \n",
      "    If in doubt, return \"3-Medium\"\n",
      "    \n",
      "\n",
      "- summary: Summarize the reported issue in 40 characters and a neutral tone.\n",
      "\n",
      "- description: Summarize the reported issue in not more that 300 characters and a neutral tone.\n",
      "    \n",
      "- address: Extract the address where the issue is taking place. Return the street only and omit the town or country\n",
      "\n",
      "- location: Extract the coordinates where the issue has been notices. The format should be: float, float\n",
      "\n",
      "- sentiment: Classify the sentiment of the post into \"NEUTRAL\", \"NEGATIVE\", \"VERY NEGATIVE\"\n",
      "1. NEUTRAL: if the post reports an issue politely, in a calm tone\n",
      "2. NEGATIVE: if the post shows irony, impatience, annoyance\n",
      "3. VERY NEGATIVE: the post is rude or it expresses rage, hatred towards the public authority\n",
      "\n",
      "\n",
      "Output a JSON file, all the fields should be in string format\n",
      "\n"
     ]
    }
   ],
   "source": [
    "print(model_input[0].content)"
   ]
  }
 ],
 "metadata": {
  "kernelspec": {
   "display_name": "Python 3 (ipykernel)",
   "language": "python",
   "name": "python3"
  },
  "language_info": {
   "codemirror_mode": {
    "name": "ipython",
    "version": 3
   },
   "file_extension": ".py",
   "mimetype": "text/x-python",
   "name": "python",
   "nbconvert_exporter": "python",
   "pygments_lexer": "ipython3",
   "version": "3.9.6"
  }
 },
 "nbformat": 4,
 "nbformat_minor": 5
}
