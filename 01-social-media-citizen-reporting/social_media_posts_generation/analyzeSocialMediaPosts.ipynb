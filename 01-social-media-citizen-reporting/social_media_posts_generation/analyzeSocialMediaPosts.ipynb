{
 "cells": [
  {
   "cell_type": "markdown",
   "id": "ff12ba3e",
   "metadata": {},
   "source": [
    "# Analyze social media posts"
   ]
  },
  {
   "cell_type": "markdown",
   "id": "987cd0da",
   "metadata": {},
   "source": [
    "Setting up sap version of LangChain (sap-llm-commons). Instructions are adapted from https://github.tools.sap/AILearning/genAIDay. To follow these instructions, VPM c|onnection is required. **Need to ask what is at the moment the reccomendation for non-sap employees**"
   ]
  },
  {
   "cell_type": "code",
   "execution_count": null,
   "id": "467feacf",
   "metadata": {},
   "outputs": [],
   "source": [
    "#!pip install \"sap-llm-commons===0.1.0\" --extra-index-url https://int.repositories.cloud.sap/artifactory/api/pypi/proxy-deploy-releases-hyperspace-pypi/simple --trusted-host int.repositories.cloud.sap\n",
    "#!pip install langchain==0.0.281 openai==0.28.1 panel tiktoken pypdf chromadb pycryptodome lark wikipedia DateTime jupyter_bokeh langchain docarray django==2.2 django-cors-headers==2.5.3 django-storages-redux==1.3.3 selenium==4.8.2 panel\n",
    "#!pip install ai-api-client-sdk\n",
    "#!pip install ai-core-sdk"
   ]
  },
  {
   "cell_type": "code",
   "execution_count": 6,
   "id": "6352576e",
   "metadata": {},
   "outputs": [
    {
     "name": "stdout",
     "output_type": "stream",
     "text": [
      "Name: sap-llm-commons\n",
      "Version: 0.1.0\n",
      "Summary: \n",
      "Home-page: \n",
      "Author: Deep Learning Center of Excellence\n",
      "Author-email: xxx@global.corp.sap\n",
      "License: \n",
      "Location: /Users/I550349/Library/CloudStorage/OneDrive-SAPSE/Documents/workspace/py_envs/hana_vector_env/lib/python3.9/site-packages\n",
      "Requires: \n",
      "Required-by: \n",
      "Note: you may need to restart the kernel to use updated packages.\n"
     ]
    }
   ],
   "source": [
    "pip show sap_llm_commons"
   ]
  },
  {
   "cell_type": "markdown",
   "id": "4047a978",
   "metadata": {},
   "source": [
    "After downloading llm-commons you need to create a folder named .aicore_llm in your home directory and inside you need to create a config.json file like this:\n",
    "\n",
    "```\n",
    "{\n",
    "    \"AICORE_LLM_AUTH_URL\": \" ... \",\n",
    "    \"AICORE_LLM_CLIENT_ID\": \" ... \",\n",
    "    \"AICORE_LLM_CLIENT_SECRET\": \" ... \",\n",
    "    \"AICORE_LLM_API_BASE\": \" ... \",\n",
    "    \"AICORE_LLM_RESOURCE_GROUP\": \" ... \"\n",
    "}\n",
    "```\n",
    "You can create automatically the file by downloading the access key of your AI Core instance and typing in the command line: \n",
    "```\n",
    "aicore-llm configure -k your-aicore-access-key.txt\n",
    "```"
   ]
  },
  {
   "cell_type": "markdown",
   "id": "ad2ce468-1a66-4bdf-a76d-fa0e8c53633d",
   "metadata": {},
   "source": [
    "### Let's test if we can use llm_commons"
   ]
  },
  {
   "cell_type": "code",
   "execution_count": 1,
   "id": "7cd955f1",
   "metadata": {},
   "outputs": [
    {
     "data": {
      "text/plain": [
       "\"I am an AI language model developed by OpenAI, and I don't have a personal name. You can simply refer to me as OpenAI Assistant. How can I assist you today?\""
      ]
     },
     "execution_count": 1,
     "metadata": {},
     "output_type": "execute_result"
    }
   ],
   "source": [
    "from llm_commons.proxy.base import set_proxy_version\n",
    "set_proxy_version('aicore') # for an AI Core proxy\n",
    "from llm_commons.langchain.proxy import ChatOpenAI\n",
    "llm = ChatOpenAI(  proxy_model_name='gpt-4' ,\\\n",
    "                    temperature=0.0,\\\n",
    "                    verbose = True)\n",
    "llm.predict('What is your name?')"
   ]
  },
  {
   "cell_type": "code",
   "execution_count": 4,
   "id": "b9a3584e",
   "metadata": {},
   "outputs": [],
   "source": [
    "from langchain.output_parsers import ResponseSchema\n",
    "from langchain.output_parsers import StructuredOutputParser\n",
    "\n",
    "info_dict={ \"category\": '''Identify if the social media reports a situation related to one of the following categories: \n",
    "                             1. PUBLIC CLEANLINESS: Dirty public areas, overflowing dustbins and littering. Bulky waste in common areas.  \n",
    "                             2. ROADS & FOOTPATHS: Including covered linkways, signboards & streetlights. E.g. Pot holes, huge cracks, etc.\n",
    "                             3. FACILITY & PARK MAINTENANCE: Fallen trees, overgrown grass, and maintenance of park lighting and facilities.\n",
    "                             4. PESTS: Sighting of bees and hornets, potential mosquito breeding sites, and more.\n",
    "                             5. DRAINS & SEWERS: Choked, overflowing, or damaged drains, bad sewage smells, flooding.   \n",
    "                             Output the category name. If none of the categories fits, or in doubt, return OTHER - PLEASE CHECK.  \n",
    "                             ''',                 \n",
    "            \"priority\": '''Identify the priority to be given to the reported issues: \n",
    "                                      \n",
    "                             1. LOW: the issue does not pose any problem with public safety and does not necessarily need to be handled urgently. \\\n",
    "                             2. MEDIUM: the issue does not cause any immediate danger, but it has significant and negative impact on the daily life of people in the neighborhood.\\\n",
    "                             3. HIGH: the issue needs to be resolved quickly because it can potentially cause dangerous situations or \\\n",
    "                                 disruptions. \n",
    "                             4. VERY HIGH: the issue needs to be handled as soon as possible, as it is a matter of public safety. \\\n",
    "                             \n",
    "                             Return the priority level. If in doubt, return MEDIUM ''',          \n",
    "            \"title\": \"Summarize the issue that is being reported in 40 characters and a neutral tone.\",\n",
    "            \"description\": \"Summarize the issue that is being reported in not more that 300 characters and a neutral tone.\",\n",
    "\n",
    "            \"location\":\"Extract the address where the issue has been noticed. Return the street only and omit the town or country\",\n",
    "            \"coordinates\": \"Extract the coordinates where the issue has been notices. The format should be: (float, float)\",\n",
    "       \n",
    "            \"sentiment\" : '''Extract the sentiment of the post: \n",
    "                            1. NEUTRAL: if the issue is reported politely\n",
    "                            2. NEGATIVE: if the post shows irritation, impatience, annoyance\n",
    "                            3. VERY NEGATIVE: the post expresses rage, hatred\n",
    "                            '''\n",
    " }\n",
    "\n",
    "category_schema = ResponseSchema(name=\"category\",\n",
    "                             description=info_dict['category'])\n",
    "priority_schema = ResponseSchema(name=\"priority\",\n",
    "                                      description=info_dict['priority'])\n",
    "title_schema = ResponseSchema(name=\"title\",\n",
    "                                    description=info_dict['title'])\n",
    "description_schema = ResponseSchema(name=\"description\",\n",
    "                                    description=info_dict['description'])\n",
    "location_schema= ResponseSchema(name=\"location\",\n",
    "                                    description=info_dict['location'])\n",
    "coordinates_schema= ResponseSchema(name=\"coordinates\",\n",
    "                                    description=info_dict['coordinates'], type='tuple')\n",
    "sentiment_schema= ResponseSchema(name=\"sentiment\",\n",
    "                                    description=info_dict['sentiment'])\n",
    "\n",
    "response_schemas = [category_schema, \n",
    "                    priority_schema,\n",
    "                    title_schema,\n",
    "                    description_schema,\n",
    "                    location_schema,\n",
    "                    coordinates_schema,\n",
    "                    sentiment_schema,                   \n",
    "                    ]\n",
    "\n",
    "output_parser = StructuredOutputParser.from_response_schemas(response_schemas)\n",
    "format_instructions = output_parser.get_format_instructions()"
   ]
  },
  {
   "cell_type": "code",
   "execution_count": 21,
   "id": "5b033509",
   "metadata": {},
   "outputs": [
    {
     "ename": "ImportError",
     "evalue": "cannot import name 'SimpleJsonOutputParser' from 'langchain.output_parsers' (/Users/I550349/Library/CloudStorage/OneDrive-SAPSE/Documents/workspace/py_envs/hana_vector_env/lib/python3.9/site-packages/langchain/output_parsers/__init__.py)",
     "output_type": "error",
     "traceback": [
      "\u001b[0;31m---------------------------------------------------------------------------\u001b[0m",
      "\u001b[0;31mImportError\u001b[0m                               Traceback (most recent call last)",
      "\u001b[1;32m/Users/I550349/Library/CloudStorage/OneDrive-SAPSE/Documents/workspace/social-media-citizen-reporting/social_media_posts_generation/analyzeSocialMediaPosts.ipynb Cell 9\u001b[0m line \u001b[0;36m2\n\u001b[1;32m      <a href='vscode-notebook-cell:/Users/I550349/Library/CloudStorage/OneDrive-SAPSE/Documents/workspace/social-media-citizen-reporting/social_media_posts_generation/analyzeSocialMediaPosts.ipynb#X21sZmlsZQ%3D%3D?line=0'>1</a>\u001b[0m \u001b[39mfrom\u001b[39;00m \u001b[39mlangchain\u001b[39;00m\u001b[39m.\u001b[39;00m\u001b[39moutput_parsers\u001b[39;00m \u001b[39mimport\u001b[39;00m ResponseSchema\n\u001b[0;32m----> <a href='vscode-notebook-cell:/Users/I550349/Library/CloudStorage/OneDrive-SAPSE/Documents/workspace/social-media-citizen-reporting/social_media_posts_generation/analyzeSocialMediaPosts.ipynb#X21sZmlsZQ%3D%3D?line=1'>2</a>\u001b[0m \u001b[39mfrom\u001b[39;00m \u001b[39mlangchain\u001b[39;00m\u001b[39m.\u001b[39;00m\u001b[39moutput_parsers\u001b[39;00m \u001b[39mimport\u001b[39;00m SimpleJsonOutputParser\n\u001b[1;32m      <a href='vscode-notebook-cell:/Users/I550349/Library/CloudStorage/OneDrive-SAPSE/Documents/workspace/social-media-citizen-reporting/social_media_posts_generation/analyzeSocialMediaPosts.ipynb#X21sZmlsZQ%3D%3D?line=3'>4</a>\u001b[0m info_dict\u001b[39m=\u001b[39m{ \u001b[39m\"\u001b[39m\u001b[39mcategory\u001b[39m\u001b[39m\"\u001b[39m: \u001b[39m'''\u001b[39m\u001b[39mIdentify if the social media reports a situation related to one of the following categories: \u001b[39m\n\u001b[1;32m      <a href='vscode-notebook-cell:/Users/I550349/Library/CloudStorage/OneDrive-SAPSE/Documents/workspace/social-media-citizen-reporting/social_media_posts_generation/analyzeSocialMediaPosts.ipynb#X21sZmlsZQ%3D%3D?line=4'>5</a>\u001b[0m \u001b[39m                             1. PUBLIC CLEANLINESS: Dirty public areas, overflowing dustbins and littering. Bulky waste in common areas.  \u001b[39m\n\u001b[1;32m      <a href='vscode-notebook-cell:/Users/I550349/Library/CloudStorage/OneDrive-SAPSE/Documents/workspace/social-media-citizen-reporting/social_media_posts_generation/analyzeSocialMediaPosts.ipynb#X21sZmlsZQ%3D%3D?line=5'>6</a>\u001b[0m \u001b[39m                             2. ROADS & FOOTPATHS: Including covered linkways, signboards & streetlights. E.g. Pot holes, huge cracks, etc.\u001b[39m\n\u001b[0;32m   (...)\u001b[0m\n\u001b[1;32m     <a href='vscode-notebook-cell:/Users/I550349/Library/CloudStorage/OneDrive-SAPSE/Documents/workspace/social-media-citizen-reporting/social_media_posts_generation/analyzeSocialMediaPosts.ipynb#X21sZmlsZQ%3D%3D?line=30'>31</a>\u001b[0m \u001b[39m                            \u001b[39m\u001b[39m'''\u001b[39m\n\u001b[1;32m     <a href='vscode-notebook-cell:/Users/I550349/Library/CloudStorage/OneDrive-SAPSE/Documents/workspace/social-media-citizen-reporting/social_media_posts_generation/analyzeSocialMediaPosts.ipynb#X21sZmlsZQ%3D%3D?line=31'>32</a>\u001b[0m  }\n\u001b[1;32m     <a href='vscode-notebook-cell:/Users/I550349/Library/CloudStorage/OneDrive-SAPSE/Documents/workspace/social-media-citizen-reporting/social_media_posts_generation/analyzeSocialMediaPosts.ipynb#X21sZmlsZQ%3D%3D?line=33'>34</a>\u001b[0m category_schema \u001b[39m=\u001b[39m ResponseSchema(name\u001b[39m=\u001b[39m\u001b[39m\"\u001b[39m\u001b[39mcategory\u001b[39m\u001b[39m\"\u001b[39m,\n\u001b[1;32m     <a href='vscode-notebook-cell:/Users/I550349/Library/CloudStorage/OneDrive-SAPSE/Documents/workspace/social-media-citizen-reporting/social_media_posts_generation/analyzeSocialMediaPosts.ipynb#X21sZmlsZQ%3D%3D?line=34'>35</a>\u001b[0m                              description\u001b[39m=\u001b[39minfo_dict[\u001b[39m'\u001b[39m\u001b[39mcategory\u001b[39m\u001b[39m'\u001b[39m])\n",
      "\u001b[0;31mImportError\u001b[0m: cannot import name 'SimpleJsonOutputParser' from 'langchain.output_parsers' (/Users/I550349/Library/CloudStorage/OneDrive-SAPSE/Documents/workspace/py_envs/hana_vector_env/lib/python3.9/site-packages/langchain/output_parsers/__init__.py)"
     ]
    }
   ],
   "source": [
    "from langchain.output_parsers import ResponseSchema\n",
    "from langchain.output_parsers import SimpleJsonOutputParser\n",
    "\n",
    "info_dict={ \"category\": '''Identify if the social media reports a situation related to one of the following categories: \n",
    "                             1. PUBLIC CLEANLINESS: Dirty public areas, overflowing dustbins and littering. Bulky waste in common areas.  \n",
    "                             2. ROADS & FOOTPATHS: Including covered linkways, signboards & streetlights. E.g. Pot holes, huge cracks, etc.\n",
    "                             3. FACILITY & PARK MAINTENANCE: Fallen trees, overgrown grass, and maintenance of park lighting and facilities.\n",
    "                             4. PESTS: Sighting of bees and hornets, potential mosquito breeding sites, and more.\n",
    "                             5. DRAINS & SEWERS: Choked, overflowing, or damaged drains, bad sewage smells, flooding.   \n",
    "                             Output the category name. If none of the categories fits, or in doubt, return OTHER - PLEASE CHECK.  \n",
    "                             ''',                 \n",
    "            \"priority\": '''Identify the priority to be given to the reported issues: \n",
    "                                      \n",
    "                             1. LOW: the issue does not pose any problem with public safety and does not necessarily need to be handled urgently. \\\n",
    "                             2. MEDIUM: the issue does not cause any immediate danger, but it has significant and negative impact on the daily life of people in the neighborhood.\\\n",
    "                             3. HIGH: the issue needs to be resolved quickly because it can potentially cause dangerous situations or \\\n",
    "                                 disruptions. \n",
    "                             4. VERY HIGH: the issue needs to be handled as soon as possible, as it is a matter of public safety. \\\n",
    "                             \n",
    "                             Return the priority level. If in doubt, return MEDIUM ''',          \n",
    "            \"title\": \"Summarize the issue that is being reported in 40 characters and a neutral tone.\",\n",
    "            \"description\": \"Summarize the issue that is being reported in not more that 300 characters and a neutral tone.\",\n",
    "\n",
    "            \"location\":\"Extract the address where the issue has been noticed. Return the street only and omit the town or country\",\n",
    "            \"coordinates\": \"Extract the coordinates where the issue has been notices. The format should be: (float, float)\",\n",
    "       \n",
    "            \"sentiment\" : '''Extract the sentiment of the post: \n",
    "                            1. NEUTRAL: if the issue is reported politely\n",
    "                            2. NEGATIVE: if the post shows irritation, impatience, annoyance\n",
    "                            3. VERY NEGATIVE: the post expresses rage, hatred\n",
    "                            '''\n",
    " }\n",
    "\n",
    "category_schema = ResponseSchema(name=\"category\",\n",
    "                             description=info_dict['category'])\n",
    "priority_schema = ResponseSchema(name=\"priority\",\n",
    "                                      description=info_dict['priority'])\n",
    "title_schema = ResponseSchema(name=\"title\",\n",
    "                                    description=info_dict['title'])\n",
    "description_schema = ResponseSchema(name=\"description\",\n",
    "                                    description=info_dict['description'])\n",
    "location_schema= ResponseSchema(name=\"location\",\n",
    "                                    description=info_dict['location'])\n",
    "coordinates_schema= ResponseSchema(name=\"coordinates\",\n",
    "                                    description=info_dict['coordinates'])\n",
    "sentiment_schema= ResponseSchema(name=\"sentiment\",\n",
    "                                    description=info_dict['sentiment'])\n",
    "\n",
    "response_schemas = [category_schema, \n",
    "                    priority_schema,\n",
    "                    title_schema,\n",
    "                    description_schema,\n",
    "                    location_schema,\n",
    "                    coordinates_schema,\n",
    "                    sentiment_schema,                   \n",
    "                    ]\n",
    "\n",
    "output_parser = SimpleJsonOutputParser.from_response_schemas(response_schemas)\n",
    "format_instructions = output_parser.get_format_instructions()"
   ]
  },
  {
   "cell_type": "code",
   "execution_count": 5,
   "id": "b2736b74",
   "metadata": {},
   "outputs": [
    {
     "data": {
      "text/plain": [
       "'The output should be a markdown code snippet formatted in the following schema, including the leading and trailing \"```json\" and \"```\":\\n\\n```json\\n{\\n\\t\"category\": string  // Identify if the social media reports a situation related to one of the following categories: \\n                             1. PUBLIC CLEANLINESS: Dirty public areas, overflowing dustbins and littering. Bulky waste in common areas.  \\n                             2. ROADS & FOOTPATHS: Including covered linkways, signboards & streetlights. E.g. Pot holes, huge cracks, etc.\\n                             3. FACILITY & PARK MAINTENANCE: Fallen trees, overgrown grass, and maintenance of park lighting and facilities.\\n                             4. PESTS: Sighting of bees and hornets, potential mosquito breeding sites, and more.\\n                             5. DRAINS & SEWERS: Choked, overflowing, or damaged drains, bad sewage smells, flooding.   \\n                             Output the category name. If none of the categories fits, or in doubt, return OTHER - PLEASE CHECK.  \\n                             \\n\\t\"priority\": string  // Identify the priority to be given to the reported issues: \\n                                      \\n                             1. LOW: the issue does not pose any problem with public safety and does not necessarily need to be handled urgently.                              2. MEDIUM: the issue does not cause any immediate danger, but it has significant and negative impact on the daily life of people in the neighborhood.                             3. HIGH: the issue needs to be resolved quickly because it can potentially cause dangerous situations or                                  disruptions. \\n                             4. VERY HIGH: the issue needs to be handled as soon as possible, as it is a matter of public safety.                              \\n                             Return the priority level. If in doubt, return MEDIUM \\n\\t\"title\": string  // Summarize the issue that is being reported in 40 characters and a neutral tone.\\n\\t\"description\": string  // Summarize the issue that is being reported in not more that 300 characters and a neutral tone.\\n\\t\"location\": string  // Extract the address where the issue has been noticed. Return the street only and omit the town or country\\n\\t\"coordinates\": tuple  // Extract the coordinates where the issue has been notices. The format should be: (lat, lon)\\n\\t\"sentiment\": string  // Extract the sentiment of the post: \\n                            1. NEUTRAL: if the issue is reported politely\\n                            2. NEGATIVE: if the post shows irritation, impatience, annoyance\\n                            3. VERY NEGATIVE: the post expresses rage, hatred\\n                            \\n}\\n```'"
      ]
     },
     "execution_count": 5,
     "metadata": {},
     "output_type": "execute_result"
    }
   ],
   "source": [
    "format_instructions"
   ]
  },
  {
   "cell_type": "code",
   "execution_count": 13,
   "id": "468970b1",
   "metadata": {},
   "outputs": [],
   "source": [
    "my_post='''📢 Attention to all Sagenai residents! 🏡🌳\n",
    "\n",
    "I hope this message finds you well. 😊 However, I have a matter of concern that I would like to share with you all. 🙏🏼 Recently, I noticed a distressing situation at the public area near High Road, Sagenai. 🚮🤢 The area is in dire need of cleaning and maintenance, as it has become terribly dirty and unkempt. This issue may not pose immediate danger, but it significantly impacts the quality of life for all of us in the neighborhood. 🙅🏻‍♀️🏘️\n",
    "\n",
    "I kindly request the attention of our local authorities to address this problem promptly. 📞🏢 Let's work together to restore the cleanliness and beauty of our beloved neighborhood. 🌟🌷 Your timely action will be greatly appreciated! 🙌🏼💚\n",
    "\n",
    "#Sagenai #CleanlinessMatters #CommunityUnity\" \n",
    " \n",
    "\n",
    "        Coordinates:(51.5728533044047,-0.03229501754130372) '''"
   ]
  },
  {
   "cell_type": "code",
   "execution_count": 14,
   "id": "39e19551",
   "metadata": {},
   "outputs": [],
   "source": [
    "from langchain.prompts import ChatPromptTemplate\n",
    "\n",
    "template = \"\"\"\\\n",
    "For the following social media post, extract the following information:\n",
    "\n",
    "{category}\n",
    "\n",
    "{priority}\n",
    "\n",
    "{title}\n",
    "\n",
    "{description}\n",
    "\n",
    "{location}\n",
    "\n",
    "{coordinates}\n",
    "\n",
    "{sentiment}\n",
    "\n",
    "social media post: {text}\n",
    "\n",
    "{format_instructions}\n",
    "\"\"\"\n",
    "\n",
    "prompt = ChatPromptTemplate.from_template(template=template)\n",
    "\n",
    "messages = prompt.format_messages(text=my_post,\n",
    "                                category=info_dict['category'],\n",
    "                                priority=info_dict['priority'],\n",
    "                                title=info_dict['title'],\n",
    "                                description=info_dict['description'],\n",
    "                                location=info_dict['location'],\n",
    "                                coordinates=info_dict['coordinates'],\n",
    "                                sentiment=info_dict['sentiment'],\n",
    "                                format_instructions=format_instructions)"
   ]
  },
  {
   "cell_type": "code",
   "execution_count": 15,
   "id": "6f29bffe",
   "metadata": {},
   "outputs": [],
   "source": [
    "response = llm(messages)"
   ]
  },
  {
   "cell_type": "code",
   "execution_count": 16,
   "id": "d52c59bb",
   "metadata": {},
   "outputs": [],
   "source": [
    "output_dict = output_parser.parse(response.content)"
   ]
  },
  {
   "cell_type": "code",
   "execution_count": 18,
   "id": "df70c7e6",
   "metadata": {},
   "outputs": [
    {
     "data": {
      "text/plain": [
       "str"
      ]
     },
     "execution_count": 18,
     "metadata": {},
     "output_type": "execute_result"
    }
   ],
   "source": [
    "type(output_dict['coordinates'])"
   ]
  },
  {
   "cell_type": "code",
   "execution_count": null,
   "id": "6d407156",
   "metadata": {},
   "outputs": [],
   "source": []
  }
 ],
 "metadata": {
  "kernelspec": {
   "display_name": "Python 3 (ipykernel)",
   "language": "python",
   "name": "python3"
  },
  "language_info": {
   "codemirror_mode": {
    "name": "ipython",
    "version": 3
   },
   "file_extension": ".py",
   "mimetype": "text/x-python",
   "name": "python",
   "nbconvert_exporter": "python",
   "pygments_lexer": "ipython3",
   "version": "3.9.6"
  }
 },
 "nbformat": 4,
 "nbformat_minor": 5
}
